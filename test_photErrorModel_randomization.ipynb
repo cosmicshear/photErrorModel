{
 "cells": [
  {
   "cell_type": "markdown",
   "metadata": {},
   "source": [
    "## Test photErrorModel Randomization"
   ]
  },
  {
   "cell_type": "code",
   "execution_count": 1,
   "metadata": {},
   "outputs": [],
   "source": [
    "import sys\n",
    "import numpy as np\n",
    "\n",
    "# add the PhotoZDC1/src to your path\n",
    "package_dir = '/home/erfan/erfan-proj/packages'\n",
    "sys.path.insert(0, f'{package_dir}/PhotoZDC1/src') # LSST error model\n",
    "\n",
    "import photErrorModel as pem"
   ]
  },
  {
   "cell_type": "markdown",
   "metadata": {},
   "source": [
    "##### Magnitudes to work with"
   ]
  },
  {
   "cell_type": "code",
   "execution_count": 2,
   "metadata": {},
   "outputs": [],
   "source": [
    "# ugrizy magnitudes for three galaxies (intentionally identical) - not realistic, just for testing\n",
    "mag_true = np.array([[17, 18, 19, 20, 21, 22],\n",
    "                     [17, 18, 19, 20, 21, 22],\n",
    "                     [17, 18, 19, 20, 21, 22]]).T"
   ]
  },
  {
   "cell_type": "markdown",
   "metadata": {},
   "source": [
    "##### Create an instance of the class (#1)"
   ]
  },
  {
   "cell_type": "code",
   "execution_count": 3,
   "metadata": {},
   "outputs": [
    {
     "data": {
      "text/plain": [
       "array([[[1.70039580e+01, 1.80038608e+01, 1.90064258e+01, 1.99963946e+01,\n",
       "         2.09971007e+01, 2.19521742e+01],\n",
       "        [2.57707474e-03, 2.53310328e-03, 2.52813575e-03, 2.71001615e-03,\n",
       "         4.51719429e-03, 2.79037299e-02]],\n",
       "\n",
       "       [[1.69985884e+01, 1.79941534e+01, 1.89999511e+01, 1.99980898e+01,\n",
       "         2.10024488e+01, 2.20129794e+01],\n",
       "        [2.57669158e-03, 2.53280189e-03, 2.52794115e-03, 2.71048738e-03,\n",
       "         4.53267926e-03, 2.94984759e-02]],\n",
       "\n",
       "       [[1.70005742e+01, 1.80004106e+01, 1.90034207e+01, 2.00020827e+01,\n",
       "         2.10036188e+01, 2.20357889e+01],\n",
       "        [2.57683306e-03, 2.53299584e-03, 2.52804525e-03, 2.71160183e-03,\n",
       "         4.53608023e-03, 3.01202922e-02]]])"
      ]
     },
     "execution_count": 3,
     "metadata": {},
     "output_type": "execute_result"
    }
   ],
   "source": [
    "# set up LSST error model from PhotozDC1 codebase\n",
    "errmodel_1st = pem.LSSTErrorModel(pars={'randSeed': 2019})\n",
    "\n",
    "# if you forgot to put {'nYrObs': 2.5} etc. in pars you can always do it after\n",
    "errmodel_1st.nYrObs = 2.5\n",
    "\n",
    "# if you forgot to put {'randSeed': 2019} in pars you are NOT allowed to do it late\n",
    "# errmodel_1st.randSeed = 2019 # WRONG!\n",
    "\n",
    "# let's vectorize the function so that we can pass e.g. a 2D array to it\n",
    "getObs_1st = np.vectorize(errmodel_1st.getObs)\n",
    "\n",
    "Obs_1st = np.array([getObs_1st(mag_true[b],f'LSST_{band}') for b, band in enumerate('ugrizy')]).T\n",
    "\n",
    "Obs_1st"
   ]
  },
  {
   "cell_type": "code",
   "execution_count": 4,
   "metadata": {},
   "outputs": [
    {
     "name": "stdout",
     "output_type": "stream",
     "text": [
      "Success! Galaxies have different observed magnitudes and errors.\n"
     ]
    }
   ],
   "source": [
    "if np.alltrue((Obs_1st[0] != Obs_1st[1]) & (Obs_1st[0] != Obs_1st[2])):\n",
    "    print('Success! Galaxies have different observed magnitudes and errors.')\n",
    "else:\n",
    "    print('Something went wrong!')"
   ]
  },
  {
   "cell_type": "markdown",
   "metadata": {},
   "source": [
    "##### Create a new instance of the class with the same random seed as the first one (#2)"
   ]
  },
  {
   "cell_type": "code",
   "execution_count": 5,
   "metadata": {},
   "outputs": [
    {
     "data": {
      "text/plain": [
       "array([[[1.70039580e+01, 1.80038608e+01, 1.90064258e+01, 1.99963946e+01,\n",
       "         2.09971007e+01, 2.19521742e+01],\n",
       "        [2.57707474e-03, 2.53310328e-03, 2.52813575e-03, 2.71001615e-03,\n",
       "         4.51719429e-03, 2.79037299e-02]],\n",
       "\n",
       "       [[1.69985884e+01, 1.79941534e+01, 1.89999511e+01, 1.99980898e+01,\n",
       "         2.10024488e+01, 2.20129794e+01],\n",
       "        [2.57669158e-03, 2.53280189e-03, 2.52794115e-03, 2.71048738e-03,\n",
       "         4.53267926e-03, 2.94984759e-02]],\n",
       "\n",
       "       [[1.70005742e+01, 1.80004106e+01, 1.90034207e+01, 2.00020827e+01,\n",
       "         2.10036188e+01, 2.20357889e+01],\n",
       "        [2.57683306e-03, 2.53299584e-03, 2.52804525e-03, 2.71160183e-03,\n",
       "         4.53608023e-03, 3.01202922e-02]]])"
      ]
     },
     "execution_count": 5,
     "metadata": {},
     "output_type": "execute_result"
    }
   ],
   "source": [
    "# FRESH setup\n",
    "errmodel_2nd = pem.LSSTErrorModel(pars={'randSeed': 2019})\n",
    "errmodel_2nd.nYrObs = 2.5\n",
    "getObs_2nd = np.vectorize(errmodel_2nd.getObs)\n",
    "Obs_2nd = np.array([getObs_2nd(mag_true[b],f'LSST_{band}') for b, band in enumerate('ugrizy')]).T\n",
    "Obs_2nd"
   ]
  },
  {
   "cell_type": "code",
   "execution_count": 6,
   "metadata": {},
   "outputs": [
    {
     "name": "stdout",
     "output_type": "stream",
     "text": [
      "Success! Obs_1st and Obs_2nd are exactly the same.\n"
     ]
    }
   ],
   "source": [
    "if np.alltrue(Obs_1st == Obs_2nd):\n",
    "    print('Success! Obs_1st and Obs_2nd are exactly the same.')\n",
    "else:\n",
    "    print('Something went wrong!')        "
   ]
  },
  {
   "cell_type": "markdown",
   "metadata": {},
   "source": [
    "##### Create a new instance of the class with a different random seed than the first two (#3)"
   ]
  },
  {
   "cell_type": "code",
   "execution_count": 7,
   "metadata": {},
   "outputs": [
    {
     "data": {
      "text/plain": [
       "array([[[1.69976302e+01, 1.79981941e+01, 1.89973364e+01, 1.99993214e+01,\n",
       "         2.10001691e+01, 2.19872099e+01],\n",
       "        [2.57662341e-03, 2.53292700e-03, 2.52786299e-03, 2.71083044e-03,\n",
       "         4.52606643e-03, 2.88116126e-02]],\n",
       "\n",
       "       [[1.69953163e+01, 1.80002798e+01, 1.89992170e+01, 2.00068857e+01,\n",
       "         2.10006190e+01, 2.20227294e+01],\n",
       "        [2.57645903e-03, 2.53299177e-03, 2.52791918e-03, 2.71295084e-03,\n",
       "         4.52737002e-03, 2.97626642e-02]],\n",
       "\n",
       "       [[1.69999410e+01, 1.80046183e+01, 1.89979434e+01, 1.99951025e+01,\n",
       "         2.09964392e+01, 2.20177337e+01],\n",
       "        [2.57678792e-03, 2.53312692e-03, 2.52788111e-03, 2.70965774e-03,\n",
       "         4.51528559e-03, 2.96270017e-02]]])"
      ]
     },
     "execution_count": 7,
     "metadata": {},
     "output_type": "execute_result"
    }
   ],
   "source": [
    "# another FRESH setup\n",
    "errmodel_3rd = pem.LSSTErrorModel(pars={'randSeed': 1905})\n",
    "errmodel_3rd.nYrObs = 2.5\n",
    "getObs_3rd = np.vectorize(errmodel_3rd.getObs)\n",
    "Obs_3rd = np.array([getObs_3rd(mag_true[b],f'LSST_{band}') for b, band in enumerate('ugrizy')]).T\n",
    "Obs_3rd"
   ]
  },
  {
   "cell_type": "code",
   "execution_count": 8,
   "metadata": {},
   "outputs": [
    {
     "name": "stdout",
     "output_type": "stream",
     "text": [
      "Success! With a different random seed, galaxies would have different observed magnitudes and errors.\n"
     ]
    }
   ],
   "source": [
    "if np.alltrue(Obs_1st != Obs_3rd):\n",
    "    print('Success! With a different random seed, galaxies would have different observed magnitudes and errors.')\n",
    "else:\n",
    "    print('Something went wrong!')"
   ]
  },
  {
   "cell_type": "markdown",
   "metadata": {},
   "source": [
    "##### Use the same instance of the class to get results for the same magnitudes again (#4)"
   ]
  },
  {
   "cell_type": "code",
   "execution_count": 9,
   "metadata": {},
   "outputs": [
    {
     "data": {
      "text/plain": [
       "array([[[1.70001826e+01, 1.80007229e+01, 1.89985348e+01, 1.99954982e+01,\n",
       "         2.10051493e+01, 2.19558314e+01],\n",
       "        [2.57680514e-03, 2.53300555e-03, 2.52789878e-03, 2.70976745e-03,\n",
       "         4.54053637e-03, 2.79971270e-02]],\n",
       "\n",
       "       [[1.69967480e+01, 1.79998558e+01, 1.89983853e+01, 1.99985849e+01,\n",
       "         2.10065673e+01, 2.20914498e+01],\n",
       "        [2.57656070e-03, 2.53297860e-03, 2.52789431e-03, 2.71062524e-03,\n",
       "         4.54467230e-03, 3.16940476e-02]],\n",
       "\n",
       "       [[1.69928303e+01, 1.80000515e+01, 1.90013409e+01, 2.00058183e+01,\n",
       "         2.09972090e+01, 2.20187007e+01],\n",
       "        [2.57628282e-03, 2.53298468e-03, 2.52798279e-03, 2.71265025e-03,\n",
       "         4.51750663e-03, 2.96532120e-02]]])"
      ]
     },
     "execution_count": 9,
     "metadata": {},
     "output_type": "execute_result"
    }
   ],
   "source": [
    "Obs_4th = np.array([getObs_3rd(mag_true[b],f'LSST_{band}') for b, band in enumerate('ugrizy')]).T\n",
    "Obs_4th"
   ]
  },
  {
   "cell_type": "code",
   "execution_count": 10,
   "metadata": {},
   "outputs": [
    {
     "name": "stdout",
     "output_type": "stream",
     "text": [
      "Success! Same galaxies would have different observed magnitudes and errors if the created instance is reused.\n"
     ]
    }
   ],
   "source": [
    "if np.alltrue(Obs_3rd != Obs_4th):\n",
    "    print('Success! Same galaxies would have different observed magnitudes and errors if the created instance is reused.')\n",
    "else:\n",
    "    print('Something went wrong!')"
   ]
  }
 ],
 "metadata": {
  "kernelspec": {
   "display_name": "Python 3",
   "language": "python",
   "name": "python3"
  },
  "language_info": {
   "codemirror_mode": {
    "name": "ipython",
    "version": 3
   },
   "file_extension": ".py",
   "mimetype": "text/x-python",
   "name": "python",
   "nbconvert_exporter": "python",
   "pygments_lexer": "ipython3",
   "version": "3.6.8"
  }
 },
 "nbformat": 4,
 "nbformat_minor": 2
}
